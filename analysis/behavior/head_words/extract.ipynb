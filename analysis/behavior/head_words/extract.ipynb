{
 "cells": [
  {
   "cell_type": "code",
   "execution_count": 1,
   "metadata": {},
   "outputs": [
    {
     "name": "stderr",
     "output_type": "stream",
     "text": [
      "[nltk_data] Downloading package punkt to /Users/anyaji/nltk_data...\n",
      "[nltk_data]   Package punkt is already up-to-date!\n"
     ]
    }
   ],
   "source": [
    "import json\n",
    "import collections\n",
    "from collections import defaultdict\n",
    "import matplotlib.pyplot as plt\n",
    "from os import listdir\n",
    "from os.path import isfile, join\n",
    "from collections import Counter\n",
    "import math\n",
    "from statistics import mean\n",
    "\n",
    "import numpy as np\n",
    "from numpy import dot\n",
    "from numpy.linalg import norm\n",
    "\n",
    "import scipy\n",
    "from scipy.optimize import linear_sum_assignment\n",
    "import nltk\n",
    "nltk.download('punkt')\n",
    "from nltk.stem.porter import *\n",
    "stemmer = PorterStemmer()\n",
    "from nltk.tokenize import word_tokenize as tokenize\n",
    "from nltk.corpus import stopwords\n",
    "stop_words = set(stopwords.words('english'))"
   ]
  },
  {
   "cell_type": "code",
   "execution_count": 2,
   "metadata": {},
   "outputs": [],
   "source": [
    "with open('../sparse-1006.json') as f:\n",
    "    sparse = json.load(f)\n",
    "# with open('../dense-74.json') as f:\n",
    "#     dense = json.load(f)\n",
    "# with open('../sparse-74.json') as f:\n",
    "#     sparse_74 = json.load(f)"
   ]
  },
  {
   "cell_type": "code",
   "execution_count": 2,
   "metadata": {},
   "outputs": [],
   "source": [
    "# def clean(x):\n",
    "#     words = tokenize(x.lower())\n",
    "#     wl = [stemmer.stem(w) for w in words if w not in stop_words and (w.islower() or w.isalnum())]\n",
    "#     return wl\n",
    "# def counter_to_dict(ct):\n",
    "#     d={}\n",
    "#     for word, count in ct:\n",
    "#         d[word] = count\n",
    "#     return d"
   ]
  },
  {
   "cell_type": "markdown",
   "metadata": {},
   "source": [
    "# Extract head NP"
   ]
  },
  {
   "cell_type": "code",
   "execution_count": 3,
   "metadata": {},
   "outputs": [],
   "source": [
    "import spacy\n",
    "nlp = spacy.load(\"en_core_web_sm\")"
   ]
  },
  {
   "cell_type": "code",
   "execution_count": 15,
   "metadata": {},
   "outputs": [],
   "source": [
    "def lemma(text):\n",
    "    doc = nlp(text)\n",
    "    assert(len(doc)==1)\n",
    "    return (doc[0]).lemma_"
   ]
  },
  {
   "cell_type": "code",
   "execution_count": 8,
   "metadata": {},
   "outputs": [],
   "source": [
    "def _get_tree(s):\n",
    "    doc = nlp(s)\n",
    "    \n",
    "    for token in doc:\n",
    "        print(token.text, token.dep_, token.head.text, token.head.pos_,\n",
    "                [child for child in token.children])\n",
    "    return '****************'"
   ]
  },
  {
   "cell_type": "code",
   "execution_count": 10,
   "metadata": {},
   "outputs": [],
   "source": [
    "def get_headNP(s, check=False):\n",
    "    #hard coded fix typo\n",
    "    if s.startswith('aa '):\n",
    "        s=s.replace('aa ', 'a ')\n",
    "    \n",
    "    #get tree\n",
    "    doc = nlp(s)\n",
    "    if check:\n",
    "        _get_tree(s)\n",
    "    \n",
    "    #single word\n",
    "    if len(doc)==1:\n",
    "        return doc[0].text\n",
    "        \n",
    "    for token in doc:\n",
    "        if token.dep_=='ROOT' and token.head.pos_ in ['NOUN', 'INTJ', 'PROPN', 'PRON', 'ADJ', 'ADV']: \n",
    "            return token.text\n",
    "         \n",
    "        if token.dep_=='ROOT' and token.head.pos_=='VERB':\n",
    "            if list(token.children)[0].dep_=='prep':\n",
    "                return token.text\n",
    "            else:\n",
    "                return list(token.children)[0].text\n",
    "\n",
    "        if token.dep_=='ROOT' and token.head.pos_=='ADP':\n",
    "            return list(token.children)[-1].text\n",
    "\n",
    "        # hard code \"xx can\" utterances\n",
    "        if token.dep_=='ROOT' and token.text=='can':\n",
    "            return token.text\n",
    "        \n",
    "#     print('***', s)\n",
    "#     print(_get_tree(s))\n",
    "    return "
   ]
  },
  {
   "cell_type": "code",
   "execution_count": 9,
   "metadata": {},
   "outputs": [
    {
     "name": "stdout",
     "output_type": "stream",
     "text": [
      "0\n",
      "50\n",
      "100\n",
      "150\n",
      "200\n",
      "250\n",
      "300\n",
      "350\n",
      "400\n",
      "450\n",
      "500\n",
      "550\n",
      "600\n",
      "650\n",
      "700\n",
      "750\n",
      "800\n",
      "850\n",
      "900\n",
      "950\n",
      "1000\n"
     ]
    }
   ],
   "source": [
    "# get head NP\n",
    "'''\n",
    "whole_to_part_to_count = {'person':\n",
    "    {'count': 800,\n",
    "    'parts_dict': \n",
    "        {\n",
    "        'head': 10,\n",
    "        ...\n",
    "        }\n",
    "    }\n",
    "}\n",
    "'''\n",
    "whole_to_part_to_count={}\n",
    "MANUAL_CHECK_WHOLE=[]\n",
    "MANUAL_CHECK_PART=[]\n",
    "for i, (tangram, anns) in enumerate(sparse.items()):\n",
    "    if i%50==0:\n",
    "        print(i)\n",
    "        \n",
    "    for ann in anns:\n",
    "        w=get_headNP(ann['whole'])\n",
    "        if w: # head word for whole-ann\n",
    "            whole_to_part_to_count.setdefault(w, {'count':0, 'parts_dict':defaultdict(int)})\n",
    "            whole_to_part_to_count[w]['count']+=1\n",
    "            \n",
    "            parts = list(set(ann['piece'].values())) # parts *without duplicates*\n",
    "            for p_ann in parts:\n",
    "                p=get_headNP(p_ann)\n",
    "                if p: # head word for part-ann\n",
    "                    whole_to_part_to_count[w]['parts_dict'][p]+=1\n",
    "                else: # cant find head word for part-ann\n",
    "                    MANUAL_CHECK_PART.append({'whole_head': w, 'part_ann': p_ann}) # add to manual check\n",
    "\n",
    "        else: # cant find head word for whole-ann\n",
    "            MANUAL_CHECK_WHOLE.append(ann) # add to manual check\n",
    "            "
   ]
  },
  {
   "cell_type": "markdown",
   "metadata": {},
   "source": [
    "# add head words manually (run once)"
   ]
  },
  {
   "cell_type": "code",
   "execution_count": 12,
   "metadata": {},
   "outputs": [
    {
     "data": {
      "text/plain": [
       "[{'whole': \"a bird flapping it's wings\",\n",
       "  'piece': {'1': 'body',\n",
       "   '3': 'body',\n",
       "   '7': 'wings',\n",
       "   '4': 'body',\n",
       "   '2': 'head',\n",
       "   '5': 'wings',\n",
       "   '6': 'wings'}},\n",
       " {'whole': \"a bear on it's back legs\",\n",
       "  'piece': {'7': 'legs',\n",
       "   '5': 'head',\n",
       "   '1': 'arms',\n",
       "   '4': 'mouth',\n",
       "   '2': 'head',\n",
       "   '6': 'back',\n",
       "   '3': 'head'}},\n",
       " {'whole': \"a seal flapping it's fins\",\n",
       "  'piece': {'2': 'body',\n",
       "   '5': 'fins',\n",
       "   '3': 'tail',\n",
       "   '6': 'body',\n",
       "   '1': 'head',\n",
       "   '7': 'fins',\n",
       "   '4': 'tail'}}]"
      ]
     },
     "execution_count": 12,
     "metadata": {},
     "output_type": "execute_result"
    }
   ],
   "source": [
    "MANUAL_CHECK_WHOLE"
   ]
  },
  {
   "cell_type": "code",
   "execution_count": 13,
   "metadata": {},
   "outputs": [],
   "source": [
    "whole_to_part_to_count['bird']['count']+=1\n",
    "whole_to_part_to_count['bird']['parts_dict']['body']+=1\n",
    "whole_to_part_to_count['bird']['parts_dict']['wings']+=1\n",
    "whole_to_part_to_count['bird']['parts_dict']['head']+=1\n",
    "\n",
    "whole_to_part_to_count['bear']['count']+=1\n",
    "whole_to_part_to_count['bear']['parts_dict']['legs']+=1\n",
    "whole_to_part_to_count['bear']['parts_dict']['head']+=1\n",
    "whole_to_part_to_count['bear']['parts_dict']['arms']+=1\n",
    "whole_to_part_to_count['bear']['parts_dict']['mouth']+=1\n",
    "whole_to_part_to_count['bear']['parts_dict']['back']+=1\n",
    "\n",
    "whole_to_part_to_count['seal']['count']+=1\n",
    "whole_to_part_to_count['seal']['parts_dict']['body']+=1\n",
    "whole_to_part_to_count['seal']['parts_dict']['fins']+=1\n",
    "whole_to_part_to_count['seal']['parts_dict']['tail']+=1\n",
    "whole_to_part_to_count['seal']['parts_dict']['fins']+=1\n",
    "whole_to_part_to_count['seal']['parts_dict']['head']+=1"
   ]
  },
  {
   "cell_type": "code",
   "execution_count": 14,
   "metadata": {},
   "outputs": [
    {
     "data": {
      "text/plain": [
       "[{'whole_head': 'pyramid',\n",
       "  'part_ann': 'light show with darker shape in middle (the light is around the marked box)'},\n",
       " {'whole_head': 'pyramid',\n",
       "  'part_ann': 'pyramid (it is hard to tell the border between pyramid and ground at night on the left side)'},\n",
       " {'whole_head': 'fountain', 'part_ann': 'where the button you press it'},\n",
       " {'whole_head': 'house', 'part_ann': 'ten of hearts'},\n",
       " {'whole_head': 'women', 'part_ann': 'leg are inside skirt'},\n",
       " {'whole_head': 'train', 'part_ann': 'where the wheels are'},\n",
       " {'whole_head': 'number', 'part_ann': 'a 5'},\n",
       " {'whole_head': 'rose', 'part_ann': 'petal 1'},\n",
       " {'whole_head': 'rose', 'part_ann': 'petal 3'},\n",
       " {'whole_head': 'beggar', 'part_ann': 'outstretched are'},\n",
       " {'whole_head': 'lever', 'part_ann': 'load (must be more dense than load 1)'}]"
      ]
     },
     "execution_count": 14,
     "metadata": {},
     "output_type": "execute_result"
    }
   ],
   "source": [
    "MANUAL_CHECK_PART"
   ]
  },
  {
   "cell_type": "code",
   "execution_count": 15,
   "metadata": {},
   "outputs": [],
   "source": [
    "def _add(_whole, _part):\n",
    "    whole_to_part_to_count[_whole]['parts_dict'][_part]=whole_to_part_to_count[_whole]['parts_dict'].get(_part,0)+1"
   ]
  },
  {
   "cell_type": "code",
   "execution_count": 16,
   "metadata": {},
   "outputs": [],
   "source": [
    "_add('pyramid', 'show')\n",
    "_add('pyramid','pyramid')\n",
    "_add('fountain','button')\n",
    "_add('house','ten')\n",
    "_add('women','leg')\n",
    "_add('train','wheels')\n",
    "_add('number','5')\n",
    "_add('rose','petal')\n",
    "_add('rose','petal')\n",
    "_add('beggar','arm') # typo?\n",
    "_add('lever','load')"
   ]
  },
  {
   "cell_type": "code",
   "execution_count": 19,
   "metadata": {},
   "outputs": [],
   "source": [
    "with open('./unstemmed_whole_part_counts.json', 'w') as f:\n",
    "    json.dump(whole_to_part_to_count, f)"
   ]
  },
  {
   "cell_type": "markdown",
   "metadata": {},
   "source": [
    "# stem and merge words"
   ]
  },
  {
   "cell_type": "code",
   "execution_count": 17,
   "metadata": {},
   "outputs": [],
   "source": [
    "def merge_dicts(x, y): # merge and sum 2 dicts\n",
    "    return {k: x.get(k, 0) + y.get(k, 0) for k in set(x) | set(y)}"
   ]
  },
  {
   "cell_type": "code",
   "execution_count": 28,
   "metadata": {},
   "outputs": [],
   "source": [
    "# D={}\n",
    "# for whole_ann, whole_dict in whole_to_part_to_count.items(): # merge stemmed head words in whole-anns\n",
    "#     st_whole_ann=stemmer.stem(whole_ann)\n",
    "#     D.setdefault(st_whole_ann, {'count':0, 'parts_dict':{}})\n",
    "#     D[st_whole_ann]['count']+=whole_dict['count'] # merge whole-head counts\n",
    "#     D[st_whole_ann]['parts_dict'] = merge_dicts(D[st_whole_ann]['parts_dict'], whole_dict['parts_dict'])"
   ]
  },
  {
   "cell_type": "code",
   "execution_count": 39,
   "metadata": {},
   "outputs": [],
   "source": [
    "# stemmed_merged=defaultdict(dict)\n",
    "# for whole_ann, whole_dict in D.items(): # merge stemmed head words in part-anns\n",
    "#     stemmed_merged[whole_ann]['count']=whole_dict['count']\n",
    "#     stemmed_parts_dict=defaultdict(int)\n",
    "#     for part_ann, c in whole_dict['parts_dict'].items():\n",
    "#         st_part_ann=stemmer.stem(part_ann)\n",
    "#         stemmed_parts_dict[st_part_ann]+=c\n",
    "#     stemmed_merged[whole_ann]['parts_dict']=stemmed_parts_dict"
   ]
  },
  {
   "cell_type": "code",
   "execution_count": 43,
   "metadata": {},
   "outputs": [],
   "source": [
    "# with open('./stemmed_whole_part_counts.json', 'w') as f:\n",
    "#     json.dump(stemmed_merged, f)"
   ]
  },
  {
   "cell_type": "markdown",
   "metadata": {},
   "source": [
    "# lemmatize and merge words"
   ]
  },
  {
   "cell_type": "code",
   "execution_count": 14,
   "metadata": {},
   "outputs": [],
   "source": [
    "with open('./unstemmed_whole_part_counts.json') as f:\n",
    "    whole_to_part_to_count=json.load(f)"
   ]
  },
  {
   "cell_type": "code",
   "execution_count": 18,
   "metadata": {},
   "outputs": [],
   "source": [
    "D={}\n",
    "for whole_ann, whole_dict in whole_to_part_to_count.items(): # merge stemmed head words in whole-anns\n",
    "    st_whole_ann=lemma(whole_ann)\n",
    "    D.setdefault(st_whole_ann, {'count':0, 'parts_dict':{}})\n",
    "    D[st_whole_ann]['count']+=whole_dict['count'] # merge whole-head counts\n",
    "    D[st_whole_ann]['parts_dict'] = merge_dicts(D[st_whole_ann]['parts_dict'], whole_dict['parts_dict'])"
   ]
  },
  {
   "cell_type": "code",
   "execution_count": 20,
   "metadata": {},
   "outputs": [],
   "source": [
    "lemma_merged=defaultdict(dict)\n",
    "for whole_ann, whole_dict in D.items(): # merge stemmed head words in part-anns\n",
    "    lemma_merged[whole_ann]['count']=whole_dict['count']\n",
    "    lemma_parts_dict=defaultdict(int)\n",
    "    for part_ann, c in whole_dict['parts_dict'].items():\n",
    "        st_part_ann=lemma(part_ann)\n",
    "        lemma_parts_dict[st_part_ann]+=c\n",
    "    lemma_merged[whole_ann]['parts_dict']=lemma_parts_dict"
   ]
  },
  {
   "cell_type": "code",
   "execution_count": 22,
   "metadata": {},
   "outputs": [
    {
     "data": {
      "text/plain": [
       "dict_keys(['chair', 'snake', 'view', 'counter', 'person', 'machine', 'shell', 'envelope', 'box', 'sushi', 'face', 'turtle', 'man', 'bodybuilder', 'submarine', 'superman', 'bat', 'shade', 'robot', 'dog', 'trophy', 'girl', 'body', 'lamp', 'bird', 'crown', 'table', 'bridge', 'top', 'butterfly', 'hat', 'dragon', 'bathtub', 'cow', 'cat', 'head', 'fish', 'firepit', 'hug', 'tent', 'pyramid', 'house', 'anvil', 'kite', 'camp', 'turtil', 'manger', 'helmet', 'bottle', 'sundae', 'fireplace', 'container', 'bowl', 'chiminea', 'vase', 'exhaust', 'armor', 'duck', 'tiki', 'perfume', 'spotlight', 'dish', 'goblet', 'lady', 'airplane', 'doorway', 'nun', 'mouth', 'game', 'seesaw', 'well', 'lemonade', 'stove', 'chimney', 'tree', 'water', 'place', 'podium', 'altar', 'queen', 'snifter', 'stand', 'back', 'glass', 'magician', 'collar', 'light', 'angel', 'horse', 'llama', 'giraffe', 'goat', 'lama', 'mountain', 'cleaver', 'cup', 'furnace', 'fountain', 'sink', 'hood', 'faucet', 'lock', 'scanner', 'ship', 'basket', 'king', 'nutcracker', 'factory', 'mushroom', 'racoon', 'pig', 'rat', 'knife', 'human', 'doll', 'television', 'gorilla', 'magnet', 'lobster', 'lever', 'wrench', 'claw', 'axe', 'tool', 'barn', 'priest', 'statue', 'alien', 'candle', 'flower', 'thumbtack', 'dagger', 'rosebud', 'pope', 'woman', 'plateau', 'pekingese', 'ramp', 'roof', 'stage', 'tortoise', 'elephant', 'camel', 'couch', 'lounge', 'coffeetable', 'braid', 'headdress', 'wagon', 'build', 'sailboat', 'shed', 'scorpion', 'ray', 'stingray', 'chef', 'bath', 'guard', 'tugboat', 'wizard', 'holder', 'candlestick', 'hookah', 'graduation', 'someone', 'headgear', 'ear', 'cub', 'I', 'leg', 'shirt', 'longstocking', 'boat', 'penguin', 'half', 'arrow', 'knight', 'walkway', 'frog', 'pinecone', 'snack', 'snail', 'teepee', 'range', 'worm', 'shelter', 'hook', 'cane', 'baby', 'torch', 'crab', 'vampire', 'rook', 'burrito', 'lipstick', 'desk', 'front', 'ring', 'cobra', 'a', 'longship', 'dachshund', 'dinosaur', 'hut', 'door', 'frame', 'entry', 'brontosaurus', 'candy', 'caterpillar', 'football', 'parallelogram', 'trapezoid', 'shaft', 'mug', 'seagull', 'parrot', 'kettle', 'alligator', 'chipper', 'pi', 'pant', 'bear', 'station', 'recorder', 'pot', 'emperor', 'rocket', 'rocketship', 'goose', 'toilet', 'diamond', 'gateway', 'wrestler', 'rise', 'planter', 'library', 'daddy', 'razor', 'stadium', 'fox', 'brachiosaurus', 'rex', 'hammer', 't', 'jackhammer', 'tower', 'rod', 'radish', 'croissant', 'armadillo', 'sandwich', 'grill', 'smoker', 'monk', 'garage', 'forehead', 'hangar', 'action', 'minotaur', 'forest', 'tunnel', 'nose', 'stack', 'snowman', 'cake', 'pipe', 'feeder', 'laser', 'sculpture', 'fly', 'bush', 'sign', 'nail', 'tie', 'lollipop', 'mace', 'dandelion', 'cutter', 'bit', 'mannequin', 'sensei', 'farmer', 'missile', 'pickaxe', 'whale', 'silo', 'dachsund', 'train', 'scoop', 'jet', 'purse', 'cactus', 'yoda', 'cast', 'owl', 'lizzard', 'maker', 'brush', 'shark', 'screw', 'teapot', 'ride', 'trex', 'velociraptor', 'squirrel', 'ribbon', 'skyscraper', 'arrowhead', 'rattlesnake', 'down', 'bend', 'structure', 'road', 'boomerang', 'drill', 'sunset', 'worker', 'squid', 'gnome', 'captain', 'hotel', 'sword', 'pacman', 'bomber', 'up', 'iceberg', 'leech', 'screwdriver', 'stone', 'can', 'heart', 'people', 'starfighter', 'spaceship', 'boss', 'shuttle', 'roofscape', 'centipede', 'pushmepullyou', 'icicle', 'fang', 'platypus', 'strawberry', 'bumblebee', 'carrot', 'streetlight', 'spinner', 'seahorse', 'sphinx', 'vacuum', 'twin', 'jar', 'burner', 'mailbox', 'flashlight', 'chalice', 'jewel', 'backside', 'coffeemaker', 'filter', 'meter', 'leia', 'windmill', 'plane', 'rabbit', 'fry', 'breakdancer', 'mother', 'vent', 'go', 'pedestal', 'vessel', 'fighter', 'agitator', 'wire', 'bed', 'tulip', 'transformer', 'cradle', 'sky', 'samurai', 'syringe', 'mummy', 'stool', 'stick', 'mascot', 'lighthouse', 'hydrant', 'firework', 'grenade', 'auger', 'dancer', 'egyptian', 'star', 'pen', 'mask', 'mouse', 'umbrella', 'see', 'war', 'kebab', 'spider', 'warrior', 'land', 'phone', 'beam', 'car', 'hair', 'ram', 'wig', 'ball', 'corn', 'pramid', 'theatre', 'desert', 'panorama', 'reservoir', 'museum', 'pole', 'geisha', 'torso', 'carrier', 'bonnet', 'dress', 'drone', 'bench', 'school', 'boy', 'puppy', 'monkey', 'bust', 'building', 'skyline', 'plow', 'brother', 'wasp', 'roll', 'pencil', 'balloon', 'shoe', 'totter', 'cheerleader', 'periscope', 'work', 'flag', 'tail', 'gun', 'shovel', 'bar', 'driller', 'locust', 'anteater', 'mantis', 'press', 'rake', 'cigarette', 'finger', 'device', 'court', 'flood', 'combination', 'rooster', 'chicken', 'dive', 'pitcher', 'point', 'shoot', 'tee', 'monster', 'tank', 'gas', 'furnance', 'pump', 'canister', 'cookie', 'industry', 'lay', 'igloo', 'bus', 'mom', 'grocery', 'kiln', 'crane', 'swimming', 'waiter', 'seal', 'alter', 'child', 'shawl', 'poodle', 'student', 'oven', 'pizza', 'match', 'part', 'playground', 'temple', 'equipment', 'slide', 'jack', 'bomb', 'dreidel', 'corndog', 'popsicle', 'drain', 'trowel', 'swan', 'ostricj', 'cocktail', 'tag', 'motor', 'pop', 'cracker', 'book', 'choirboy', 'set', 'paper', 'drink', 'dresser', 'bag', 'bug', 'overall', 'tooth', 'sprayer', 'boot', 'rhino', 'rhinocero', 'jellyfish', 'drawbridge', 'arch', 'bunny', 'siren', 'mill', 'flagpole', 'hatchet', 'gumboot', 'heel', 'necktie', 'pipette', 'key', 'end', 'club', 'post', 'pit', 'cocoon', 'drive', 'explosion', 'cannon', 'bucket', 'sit', 'panda', 'wall', 'meat', 'grinder', 'vial', 'waitress', 'fan', 'bull', 'vader', 'walk', 'raptor', 'insect', 'hawk', 'eagle', 'pterodactyl', 'buzzard', 'vulture', 'seabird', 'orb', 'tiger', 'scan', 'diving', 'swift', 'sparrow', 'napkin', 'tray', 'bassinet', 'schnauzer', 'skateboard', 'hand', 'room', 'gazebo', 'pose', 'entryway', 'shrimp', 'package', 'mermaid', 'genie', 'poly', 'chip', 'teenager', 'tong', 'cot', 'level', 'men', 'cone', 'hose', 'sunrise', 'skate', 'hurdle', 'relax', 'squirel', 'archer', 'yacht', 'clothe', 'fishing', 'peacock', 'observatory', 'cabin', 'woodchipper', 'space', 'hoop', 'camera', 'penis', 'plug', 'foot', 'goalie', 'fishhook', 'lizard', 'row', 'flamingo', 'entrance', 'archway', 'bent', 'doorknob', 'card', 'spin', 'runner', 'hoodie', 'ufo', 'klobuk', 'blender', 'bike', 'powerplant', 'ant', 'meditate', 'stretch', 'tanker', 'dryer', 'outpost', 'ninja', 'player', 'parachute', 'incubator', 'stormtrooper', 'scarecrow', 'booth', 'sing', 'ladle', 'serpent', 'sower', 'guy', 'cop', 'ready', 'helicopter', 'couple', 'bowler', 'millennial', 'toothpaste', 'monarch', 'kid', 'map', '-', 'funnel', 'parent', 'park', 'bow', 'sloth', 'and', 'dart', 'jump', 'member', 'square', 'sidewalk', 'mallet', 'roadway', 'coffee', 'straw', 'mortar', 'acorn', 'cream', 'measure', 'truck', 'spear', 'scissor', 'arm', 'leader', 'aunt', 'anchor', 'display', 'bowtie', 'headband', 'blindfold', 'scorpian', 'spanner', 'reptile', 'beverage', 'crest', 'duct', 'pear', 'carseat', 'barge', 'remover', 'reacher', 'treehouse', 'read', 'professor', 'catman', 'puppet', 'wheel', 'weathervane', 'clerk', 'costume', 'kangaroo', 'navi', 'bishop', 'rapunzel', 'spring', 'kattle', 'plant', 'gift', 'weight', 'telescope', 'hen', 'screen', 'saint', 'river', 'cross', 'megaphone', 'over', 'kaleidescope', 'eye', 'slug', 'lot', 'scythe', 'blade', 'mark', 'sythe', 'speaker', 'reflection', 'column', 'paddle', 'myth', 'crystal', 'sponge', 'gem', 'boulder', 'gemstone', 'side', 'crawl', 'dock', 'sofa', 'singer', 'theater', 'throne', 'animal', 'boxcar', 'tv', 'gate', 'scene', 'castle', 'haircut', 'griller', 'bottom', 'pigeon', 'bone', 'wing', 'note', 'kinfe', 'ottoman', 'dragonfly', 'scraper', 'antenna', 'board', 'pier', 'machete', 'pan', 'ballerina', 'clove', 'pharaoh', 'inhaler', 'peekingout', 'otter', 'fence', 'speedboat', 'outside', 'church', 'robin', 'dumbell', 'egg', 'staircase', 'plier', 'stem', 'tornado', 'dino', 'wheelbarrow', 'goldfish', 'superhero', 'starfish', 'edge', 'lake', 'track', 'yurt', 'fire', 'practice', 'clown', 'pincher', 'police', 'coat', 'condor', 'doggy', 'toe', 'chopper', 'vike', 'candelabra', 'portable', 'bullet', 'iron', 'cam', 'printer', 'joker', 'driver', 'stuck', 'picker', 'eel', 'horn', 'prosthesis', 'schoolmistress', 'volcano', 'bride', 'kilt', 'dance', 'twist', 'bubble', 'rattle', 'knie', 'grasshopp', 'bookshelf', 'rock', 'blower', 'console', 'profile', 'loki', 'minister', 'skip', 'denture', 'curtain', 'shopper', 'gymnast', 'hole', 'putter', 'stickball', 'greenhouse', 'sickle', 'finder', 'model', 'step', 'betamax', 'flowe', 'sunflower', 'tutle', 'shack', 'moth', 'nachos', 'rotate', 'artichoke', 'sydney', 'stairwell', 'somebody', 'tape', 'cravat', 'scarf', 'mudskipper', 'browser', 'hall', 'porcupine', 'signal', 'compass', 'suit', 'pompidou', 'pick', 'bathroom', 'soldier', 'raven', 'backpack', 'logo', 'princess', 'witch', 'pol', 'stalk', 'airhorn', 'tomahawk', 'holster', 'staff', 'telephone', 'gyroscope', 'spaceport', 'lightpole', 'tilt', 'bullhorn', 'tuba', 'crow', 'graffiti', 'nake', 'trap', 'supplicant', 'toadstool', 'system', 'spout', 'doctor', 'teacher', 'muppet', 'fastener', 'olaf', 'turtile', 'sentinel', 'buffalo', 'spool', 'sentry', 'crocodile', 'mage', 'torn', 'butler', 'fairy', 'frock', 'weightlifter', 'saber', 'pony', 'rooftop', 'canoe', 'saucer', 'dolphin', 'menu', 'kick', 'spread', 'mayor', 'mandap', 'ostrich', 'golfer', 'officer', 'tube', 'serve', 'hedonismbot', 'plate', 'matador', 'fisher', 'shooter', 'mountainscape', 'tuner', 'bazooka', 'tantrum', 'gym', 'clean', 'scope', 'graduate', 'serpernt', 'skater', 'thing', 'turkey', 'embrace', 'villain', 'conduit', 'tadpole', 'merperson', 'gavel', 'crae', 'showerhead', 'stork', 'newspaper', 'lotus', 'farmhouse', 'symbol', 'valley', 'mole', 'juggler', 'noah', 'mid', 'pillow', 'warlord', 'commander', 'paraglider', 'bell', 'scale', 'deer', 'satellite', 'bao', 'pin', 'pinwheel', 'torpedo', 'portrait', 'boxer', 'auditorium', 'downwrd', 'paintbrush', 'piston', 'closeup', 'home', 'peekaboo', 'medal', 'steamboat', 'urinal', 'launch', 'heatlamp', 'think', 'present', 'asparagus', 'conductor', 'guitar', 'unicorn', 'doduo', 'lifting', 'long', 'snow', 'jig', 'dugtrio', 'city', 'gutter', 'stalagmite', 'comb', 'balance', 'fat', 'shop', 'lantern', 'server', 'dinner', 'contortionist', 'monitor', 'dracula', 'cube', 'fist', 'icecream', 'trashcan', 'bud', 'blossom', 'ballista', 'window', 'saillboat', 'helment', 'spacehat', 'ax', 'lick', 'meercat', 'pelican', 'avatar', 'dealer', 'jackson', 'climb', 'onion', 'badge', 'pineapple', 'basin', 'karate', 'todddler', 'hallway', 'flagman', 'clam', 'radar', 'meditator', 'diver', 'seat', 'zombie', 'microscope', 'white', 'broom', 'director', 'lemur', 'hear', 'origami', 'hiding', 'exit', 'aperture', 'open', 'buoy', 'turnip', 'necklace', 'carriage', 'laddle', 'susan', 'round', 'bee', 'menorah', 'moose', 'schoolhouse', 'sandcastle', 'item', 'monolith', 'wrestle', 'complex', 'aligator', 'group', 'facility', 'farm', 'cellar', 'catepillar', 'poleaxe', 'spike', 'dromedary', 'vehicle', 'forklift', 'pile', 'tractor', 'tongue', 'design', 'eat', 'campsite', 'hilt', 'phoenix', 'aircraft', 'kitten', 'ostrick', 'stroller', 'pteradactyl', 'hairpiece', 'silhouette', 'sun', 'chute', 'sombrero', 'maypole', 'projector', 'corncob', 'overview', 'envelop', 'sail', 'pond', 'sheep', 'dumpster', 'batman', 'dinasour', 'swallow', 'elf', 'gecko', 'beaver', 'campfire', 'campire', 'wan', 'builder', 'corset', 'playhouse', 'bid', 'granny', 'wolverine', 'girffe', 'egret', 'dinosuar', 'moses', 'sideway', 'cook', 'limb', 'bin', 'pack', 'path', 'heater', 'letter', 'chipmunk', 'groundhog', 'lens', 'cardinal', 'series', 'handle', 'wreath', 'scrubber', 'pretzel', 'thinker', 'beggar', 'cupbearer', 'trash', 'hunch', 'policeman', 'kirby', 'pram', 'peafowl', 'squeril', 'phinea', 'bong', 'teddy', 'rose', 'mary', 'sperm', 'airboat', 'battleship', 'sideview', 'terri', 'whistle', 'corner', 'badger', 'engine', 'way', 'juicebox', 'mirror', 'cloud', 'flagtwirler', 'root', 'toy', 'award', 'wepon', 'knot', 'bagel', 'donut', 'kayak', 'tire', 'pod', 'watchtower', 'opener', 'swiimme', 'torrnado', 'lunge', 'venu', 'metapod', 'swor', 'mottor', 'master', 'ferret', 'music', 'compactor', 'golem', 'piece', ' ', 'swimmer', 'backpacker', 'starship', 'character', 'ski', 'zebra', 'landscape', 'cultivator', 'by', 'bettle', 'empress', 'wacke', 'seedle', 'smoke', 'route', 'jirachi', 'emblem', 'f', 'guerilla', 'planer', 'state', 'cliff', 'scropion', 'beach', 'scoprion', 'vise', 'chick', 'snitch', 'backhoe', 'something', 'thunderbird', 'catus', 'milenio', 'warplane', 'atm', 'link', 'bir', 'quail', 'ponytail', 'trumpet', 'geodude', 'c', 'number', 'sanke', 'sideways', 'pegasus', 'outcrop', 'goggle', 'glkbe', 'webcam', 'orchid', 'referee', 'peer', 'venthood', 'welder', 'bacteria', 'spacecraft', 'nautilus', 'geoduck', 'handsaw', 'eruption', 'bamboo', 'mullet', 'tardigrade', 'rumpelstiltskin', 'piguine', 'jetpack', 'jug', 'gear', 'fork', 'clamp', 'coop', 'hummingbird', 'detonator', 'pocketknife', 'ladel', 'neck', 'tucan', 'write', 'spray', 'falcon', 'bracelet', 'carry', 'wear', 'kimono', 'funeral', 'yogi', 'beagle', 'figure', 'image', 'flip', 'candleholder', 'gargoyle', 'hippo', 'lion', 'paint', 'floatie', 'shelf', 'scone', 'god', 'drum', 'kitchen', 'fetus', 'preist', 'orca', 'yoga', 'missal', 'trim', 'bulldog', 'hog', 'lightning', 'galss', 'prime', 'saxophone', 'ranger', 'trogon', 'octopus', 'jaw', 'crosscut', 'friend', 'woodpecker', 'kumiho', 'raccoon', 'millipede', 'meerkat', 'bedframe', 'mall', 'whisle', 'dredel', 'error', 'cubicle', 'pray', 'houseboat', 'padlock', 'arc', 'amtrak', 'partially', 'chapel', 'restaurant', 'pool', 'region', 'bicep', 'graveyard', 'center', 'shaker', 'bartop', 'garden', 'cupcake', 'hill', 'puck', ',', 'cave', 'bad', 'passageway', 'triumphe', 'tram', 'hedgehog', 'caterpiller', 'larva', 'bulldozer', 'christ', 'gandalf', 'steeple', 'acrobat', 'streetlamp', 'pocket', 'earthworm', 'indian', 'celebrity', 'quarterback', 'kneel', 'amphitheater', 'smack', 'rack', 'm', 'mold', 'pepper', 'sprinkler', 'panhandler', 'e', 'loader', 'capital', 'shower', 'stein', 'e.t', 'gallow', 'quilt', 'wave', 'satallite', 'fold', 'yo', 'tap', 'r', 'crusher', 'stairway', 'p', 'inchworm', 'totem', 'workbend', 'toddler', 'collie', 'slipper', 'snowmobile', 'bellhop', 'steo', 'stair', 'domino', 'measurer', 'satelite', 'parfait', 'almost', 'service', 'on', 'marker', 'island', 'talkie', 'slicer', 'cjild', 'town', 'flap', 'coaster', 'unit', 'seel', 'sittign', 'snowboarder', 'play', 'preacher', 'airliner', 'formation', 'refiller', 'hourglass', 'about', 'danish', 'flwer', 'shutter', 'k', 'gymnastic', 'paperclip', 'sling', 'look', 'nestbox', 'butt', 'escalator', 'bolt', 'globe', 'birdhouse', 'beak', 'challah', 'scimitar', 'swing', 'u', 'horseshoe', 'dumbbell', 'plunger', 'arena', 'forrest', 'cooker', 'mine', 'sock', 'california', 'armidillo', 'iris', 'shuriken', 'performer', 'ghost', 'skydiver', 'rabit', 'hil', 'hiker', 'butrterfly', 'footballer', 'umpire', 'juicer', 'prayer'])"
      ]
     },
     "execution_count": 22,
     "metadata": {},
     "output_type": "execute_result"
    }
   ],
   "source": [
    "lemma_merged.keys()"
   ]
  },
  {
   "cell_type": "code",
   "execution_count": 23,
   "metadata": {},
   "outputs": [],
   "source": [
    "with open('./lemmatized_whole_part_counts.json', 'w') as f:\n",
    "    json.dump(lemma_merged, f)"
   ]
  },
  {
   "cell_type": "code",
   "execution_count": null,
   "metadata": {},
   "outputs": [],
   "source": []
  }
 ],
 "metadata": {
  "kernelspec": {
   "display_name": "venv",
   "language": "python",
   "name": "venv"
  },
  "language_info": {
   "codemirror_mode": {
    "name": "ipython",
    "version": 3
   },
   "file_extension": ".py",
   "mimetype": "text/x-python",
   "name": "python",
   "nbconvert_exporter": "python",
   "pygments_lexer": "ipython3",
   "version": "3.7.6"
  }
 },
 "nbformat": 4,
 "nbformat_minor": 4
}
