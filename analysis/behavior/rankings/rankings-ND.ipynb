{
 "cells": [
  {
   "cell_type": "code",
   "execution_count": 1,
   "metadata": {},
   "outputs": [],
   "source": [
    "import json\n",
    "import collections\n",
    "from collections import defaultdict\n",
    "import matplotlib.pyplot as plt\n",
    "from os import listdir\n",
    "from os.path import isfile, join\n",
    "from collections import Counter\n",
    "import math\n",
    "from statistics import mean\n",
    "\n",
    "import numpy as np\n",
    "from numpy import dot\n",
    "from numpy.linalg import norm\n",
    "\n",
    "import scipy\n",
    "from scipy.optimize import linear_sum_assignment\n",
    "from scipy import stats\n",
    "from scipy.stats import bootstrap\n",
    "\n",
    "import pickle"
   ]
  },
  {
   "cell_type": "code",
   "execution_count": 2,
   "metadata": {},
   "outputs": [
    {
     "name": "stderr",
     "output_type": "stream",
     "text": [
      "[nltk_data] Downloading package punkt to /Users/anyaji/nltk_data...\n",
      "[nltk_data]   Package punkt is already up-to-date!\n"
     ]
    },
    {
     "data": {
      "text/plain": [
       "True"
      ]
     },
     "execution_count": 2,
     "metadata": {},
     "output_type": "execute_result"
    }
   ],
   "source": [
    "import nltk\n",
    "nltk.download('punkt')"
   ]
  },
  {
   "cell_type": "code",
   "execution_count": 3,
   "metadata": {},
   "outputs": [],
   "source": [
    "from nltk.stem.porter import *\n",
    "stemmer = PorterStemmer()"
   ]
  },
  {
   "cell_type": "code",
   "execution_count": 4,
   "metadata": {},
   "outputs": [],
   "source": [
    "from nltk.tokenize import word_tokenize as tokenize\n",
    "from nltk.corpus import stopwords\n",
    "stop_words = set(stopwords.words('english'))"
   ]
  },
  {
   "cell_type": "code",
   "execution_count": 5,
   "metadata": {},
   "outputs": [],
   "source": [
    "with open('../sparse-1006.json') as f:\n",
    "    sparse = json.load(f)\n",
    "with open('../dense-74.json') as f:\n",
    "    dense = json.load(f)\n",
    "with open('../sparse-74.json') as f:\n",
    "    sparse_74 = json.load(f)"
   ]
  },
  {
   "cell_type": "code",
   "execution_count": 6,
   "metadata": {},
   "outputs": [],
   "source": [
    "plt.rcParams.update({\n",
    "    \"text.usetex\": True,\n",
    "    \"font.family\": \"serif\",\n",
    "    \"font.serif\": [\"Times\"],\n",
    "    'axes.labelsize': 'x-large',\n",
    "    'axes.titlesize':'x-large',\n",
    "    'xtick.labelsize':'x-large',\n",
    "    'ytick.labelsize':'x-large',\n",
    "    'font.size': 20\n",
    "})"
   ]
  },
  {
   "cell_type": "code",
   "execution_count": 7,
   "metadata": {},
   "outputs": [],
   "source": [
    "def clean(x):\n",
    "    words = tokenize(x.lower())\n",
    "    wl = [stemmer.stem(w) for w in words if w not in stop_words and (w.islower() or w.isalnum())]\n",
    "    return wl"
   ]
  },
  {
   "cell_type": "code",
   "execution_count": 8,
   "metadata": {},
   "outputs": [],
   "source": [
    "def save_pickle(savename, d):\n",
    "    with open('./pickles/'+savename+'.pkl', 'wb') as handle:\n",
    "        pickle.dump(d, handle, protocol=pickle.HIGHEST_PROTOCOL)"
   ]
  },
  {
   "cell_type": "code",
   "execution_count": 9,
   "metadata": {},
   "outputs": [],
   "source": [
    "def unpickle(savename):\n",
    "    with open('./pickles/'+savename+'.pkl', 'rb') as handle:\n",
    "        return pickle.load(handle)"
   ]
  },
  {
   "cell_type": "code",
   "execution_count": 10,
   "metadata": {},
   "outputs": [],
   "source": [
    "sampled = [\n",
    "  \"page2-34.svg\",\n",
    "  \"page9-46.svg\",\n",
    "  \"page3-85.svg\",\n",
    "  \"page7-107.svg\",\n",
    "  \"page8-159.svg\",\n",
    "  \"page6-203.svg\",\n",
    "  \"page2-112.svg\",\n",
    "  \"page1-116.svg\",\n",
    "  \"page1-69.svg\",\n",
    "  \"page8-234.svg\",\n",
    "  \"page8-21.svg\",\n",
    "  \"page5-75.svg\",\n",
    "  \"page1-0.svg\",\n",
    "  \"page5-59.svg\",\n",
    "  \"page3-121.svg\",\n",
    "  \"page6-164.svg\",\n",
    "  \"page4-128.svg\",\n",
    "  \"page5-136.svg\",\n",
    "  \"page6-99.svg\",\n",
    "  \"page7-14.svg\",\n",
    "  \"page5-128.svg\",\n",
    "  \"page9-27.svg\",\n",
    "  \"page7-105.svg\",\n",
    "  \"page6-162.svg\",\n",
    "  \"page9-13.svg\",\n",
    "  \"page1-128.svg\",\n",
    "  \"page5-186.svg\",\n",
    "  \"page3-72.svg\",\n",
    "  \"page4-157.svg\",\n",
    "  \"page3-182.svg\",\n",
    "  \"page7-197.svg\",\n",
    "  \"page7-180.svg\",\n",
    "  \"page6-143.svg\",\n",
    "  \"page7-81.svg\",\n",
    "  \"page3-136.svg\",\n",
    "  \"page5-64.svg\",\n",
    "  \"page7-218.svg\",\n",
    "  \"page3-128.svg\",\n",
    "  \"page7-26.svg\",\n",
    "  \"page6-78.svg\",\n",
    "  \"page4-24.svg\",\n",
    "  \"page5-153.svg\",\n",
    "  \"page7-248.svg\",\n",
    "  \"page5-244.svg\",\n",
    "  \"page4-93.svg\",\n",
    "  \"page5-28.svg\",\n",
    "  \"page8-235.svg\",\n",
    "  \"page5-200.svg\",\n",
    "  \"page2-131.svg\",\n",
    "  \"page8-183.svg\",\n",
    "  \"page1-119.svg\",\n",
    "  \"page5-232.svg\",\n",
    "  \"page1-129.svg\",\n",
    "  \"page4-162.svg\",\n",
    "  \"page3-41.svg\",\n",
    "  \"page6-180.svg\",\n",
    "  \"page6-149.svg\",\n",
    "  \"page1-105.svg\",\n",
    "  \"page4-10.svg\",\n",
    "  \"page5-178.svg\",\n",
    "  \"page2-137.svg\",\n",
    "  \"page3-35.svg\",\n",
    "  \"page-A.svg\",\n",
    "  \"page-B.svg\",\n",
    "  \"page-C.svg\",\n",
    "  \"page-D.svg\",\n",
    "  \"page-E.svg\",\n",
    "  \"page-F.svg\",\n",
    "  \"page-G.svg\",\n",
    "  \"page-H.svg\",\n",
    "  \"page-I.svg\",\n",
    "  \"page-J.svg\",\n",
    "  \"page-K.svg\",\n",
    "  \"page-L.svg\",\n",
    "]"
   ]
  },
  {
   "cell_type": "markdown",
   "metadata": {},
   "source": [
    "# Naming Divergence"
   ]
  },
  {
   "cell_type": "code",
   "execution_count": 11,
   "metadata": {},
   "outputs": [],
   "source": [
    "def clean_anns(data, is_whole):\n",
    "    '''\n",
    "    [data]: {file:[{whole:..., part:{'1':xxx,'2':xxx,...}}]}\n",
    "    returns: {file: [[cleaned, anns, one],[...],...]}\n",
    "    '''\n",
    "    file_to_cleaned_ann_list = {}\n",
    "    if is_whole:\n",
    "        for file, anns_dicts in data.items():\n",
    "            cleaned_ann_list=[]\n",
    "            for ann in anns_dicts:\n",
    "                whole_anns_data = ann['whole']\n",
    "                cleaned_ann = clean(whole_anns_data)\n",
    "                cleaned_ann_list.append(list(cleaned_ann))\n",
    "            file_to_cleaned_ann_list[file] = cleaned_ann_list\n",
    "    else:\n",
    "        for file, anns_dicts in data.items():\n",
    "            cleaned_ann_list=[]\n",
    "            for ann in anns_dicts:\n",
    "                cleaned_ann = []\n",
    "                piece_anns_data = ann['piece']\n",
    "                parts_set = set(piece_anns_data.values()) # parts, excluding duplicates, {head, dog body, tail}\n",
    "                for word in parts_set:\n",
    "                    wl = clean(word) # [dog, body]\n",
    "                    cleaned_ann+= wl # [head, dog, body]\n",
    "                cleaned_ann_list.append(cleaned_ann)\n",
    "            file_to_cleaned_ann_list[file] = cleaned_ann_list\n",
    "        \n",
    "    return file_to_cleaned_ann_list"
   ]
  },
  {
   "cell_type": "code",
   "execution_count": 12,
   "metadata": {},
   "outputs": [],
   "source": [
    "SPARSE_WHOLE=clean_anns(sparse, True)"
   ]
  },
  {
   "cell_type": "code",
   "execution_count": 13,
   "metadata": {},
   "outputs": [],
   "source": [
    "DENSE_WHOLE=clean_anns(dense, True)"
   ]
  },
  {
   "cell_type": "code",
   "execution_count": 14,
   "metadata": {},
   "outputs": [],
   "source": [
    "SPARSE74_WHOLE=clean_anns(sparse_74, True)"
   ]
  },
  {
   "cell_type": "code",
   "execution_count": 15,
   "metadata": {},
   "outputs": [],
   "source": [
    "SPARSE_PART=clean_anns(sparse, False)"
   ]
  },
  {
   "cell_type": "code",
   "execution_count": 16,
   "metadata": {},
   "outputs": [],
   "source": [
    "DENSE_PART=clean_anns(dense, False)"
   ]
  },
  {
   "cell_type": "code",
   "execution_count": 17,
   "metadata": {},
   "outputs": [],
   "source": [
    "SPARSE74_PART=clean_anns(sparse_74, False)"
   ]
  },
  {
   "cell_type": "code",
   "execution_count": 82,
   "metadata": {},
   "outputs": [],
   "source": [
    "def calc_ND(cleaned_ann_list):\n",
    "    '''\n",
    "    [cleaned_ann_list]: a list of lists of cleaned annotations, e.g. [[dog], [hous, hill], ...]\n",
    "    '''\n",
    "    nd = 0 \n",
    "    num_ann = len(cleaned_ann_list)\n",
    "    # each annotation\n",
    "    for i in range(num_ann):\n",
    "        frq = 0\n",
    "        # each word in one annotation\n",
    "        wl = cleaned_ann_list[i]\n",
    "        for w in wl:\n",
    "            appeared=0\n",
    "            for j in range(num_ann):\n",
    "                if j!=i:\n",
    "                    wll = cleaned_ann_list[j]\n",
    "                    if w in wll:\n",
    "                        appeared+=1\n",
    "            frq += 1 - appeared / (num_ann-1) #proportion of the word appearing in other annotations\n",
    "        if len(wl) != 0:\n",
    "            nd+=frq/len(wl)  # nd += mean frq (1-p) of each annotation\n",
    "    rs=nd/num_ann\n",
    "    assert rs<=1\n",
    "    RESULT.append(rs)\n",
    "    return rs"
   ]
  },
  {
   "cell_type": "code",
   "execution_count": 61,
   "metadata": {},
   "outputs": [],
   "source": [
    "def bootstrap_ND(file_to_clean_anns_list, resample):\n",
    "    rerun=[] # all same distributions\n",
    "    file_to_nd = {}\n",
    "    k=0\n",
    "    global RESULT\n",
    "    RESULT=[]\n",
    "    for file, cleaned_anns_list in file_to_clean_anns_list.items():\n",
    "        if k%20==0:\n",
    "            print(k)\n",
    "        k+=1\n",
    "        \n",
    "        input_data=(cleaned_anns_list,)\n",
    "        res = bootstrap(input_data, calc_ND, confidence_level=0.95, vectorized=False, n_resamples=resample, method='percentile') \n",
    "         \n",
    "        try:\n",
    "            assert len(RESULT)==resample\n",
    "        except:\n",
    "            print('***', len(RESULT), file)\n",
    "        ci_l,ci_u=np.percentile(RESULT, [2.5, 97.5])\n",
    "        m=np.mean(RESULT)\n",
    "        file_to_nd[file] = (ci_l, ci_u, m)\n",
    "        RESULT=[]\n",
    "        \n",
    "    return file_to_nd"
   ]
  },
  {
   "cell_type": "markdown",
   "metadata": {},
   "source": [
    "### sparse"
   ]
  },
  {
   "cell_type": "code",
   "execution_count": 45,
   "metadata": {},
   "outputs": [
    {
     "name": "stdout",
     "output_type": "stream",
     "text": [
      "0\n",
      "20\n",
      "40\n",
      "60\n",
      "80\n",
      "100\n",
      "120\n",
      "140\n",
      "160\n",
      "180\n",
      "200\n",
      "220\n",
      "240\n",
      "260\n",
      "280\n",
      "300\n",
      "320\n",
      "340\n",
      "360\n",
      "380\n",
      "400\n",
      "420\n",
      "440\n",
      "460\n",
      "480\n",
      "500\n",
      "520\n",
      "540\n",
      "560\n",
      "580\n",
      "600\n",
      "620\n",
      "640\n",
      "660\n",
      "680\n",
      "700\n",
      "720\n",
      "740\n",
      "760\n",
      "780\n",
      "800\n",
      "820\n",
      "840\n",
      "860\n",
      "880\n",
      "900\n",
      "920\n",
      "940\n",
      "960\n",
      "980\n",
      "1000\n"
     ]
    },
    {
     "data": {
      "text/plain": [
       "1016"
      ]
     },
     "execution_count": 45,
     "metadata": {},
     "output_type": "execute_result"
    }
   ],
   "source": [
    "#SPARSE\n",
    "file_to_nd = bootstrap_ND(file_to_clean_anns_list=SPARSE_WHOLE, resample=1000)\n",
    "len(file_to_nd)"
   ]
  },
  {
   "cell_type": "code",
   "execution_count": 46,
   "metadata": {},
   "outputs": [],
   "source": [
    "save_pickle('CUSTOM_sparse_whole_1000', file_to_nd)"
   ]
  },
  {
   "cell_type": "code",
   "execution_count": 62,
   "metadata": {},
   "outputs": [
    {
     "name": "stdout",
     "output_type": "stream",
     "text": [
      "0\n",
      "*** 3000 page1-116\n",
      "20\n",
      "40\n",
      "60\n",
      "80\n",
      "100\n",
      "120\n",
      "140\n",
      "160\n",
      "180\n",
      "200\n",
      "220\n",
      "240\n",
      "260\n",
      "280\n",
      "300\n",
      "320\n",
      "340\n",
      "360\n",
      "380\n",
      "400\n",
      "420\n",
      "440\n",
      "460\n",
      "480\n",
      "500\n",
      "520\n",
      "540\n",
      "560\n",
      "580\n",
      "600\n",
      "620\n",
      "640\n",
      "660\n",
      "680\n",
      "700\n",
      "720\n",
      "740\n",
      "760\n",
      "780\n",
      "800\n",
      "820\n",
      "840\n",
      "860\n",
      "880\n",
      "900\n",
      "920\n",
      "940\n",
      "960\n",
      "980\n",
      "1000\n"
     ]
    },
    {
     "data": {
      "text/plain": [
       "1016"
      ]
     },
     "execution_count": 62,
     "metadata": {},
     "output_type": "execute_result"
    }
   ],
   "source": [
    "file_to_nd = bootstrap_ND(file_to_clean_anns_list=SPARSE_PART, resample=1000)\n",
    "len(file_to_nd)"
   ]
  },
  {
   "cell_type": "markdown",
   "metadata": {},
   "source": [
    "### temp fix for page1-116: it automatically turned into 10x3 np.array..."
   ]
  },
  {
   "cell_type": "code",
   "execution_count": 63,
   "metadata": {},
   "outputs": [
    {
     "data": {
      "text/plain": [
       "(0.15000000000000005, 0.7574074074074074, 0.5039521693121694)"
      ]
     },
     "execution_count": 63,
     "metadata": {},
     "output_type": "execute_result"
    }
   ],
   "source": [
    "file_to_nd['page1-116']"
   ]
  },
  {
   "cell_type": "code",
   "execution_count": 64,
   "metadata": {},
   "outputs": [],
   "source": [
    "class Wrapper:\n",
    "    def __init__(self, data):\n",
    "        self.data=data\n",
    "    def get_data(self):\n",
    "        return self.data"
   ]
  },
  {
   "cell_type": "code",
   "execution_count": 76,
   "metadata": {},
   "outputs": [],
   "source": [
    "def TEMP_calc_ND(cleaned_ann_list):\n",
    "    '''\n",
    "    [cleaned_ann_list]: a list of lists of cleaned annotations, e.g. [Wrapper[dog], Wrapper[hous, hill], ...]\n",
    "    '''\n",
    "    nd = 0 \n",
    "    num_ann = len(cleaned_ann_list)\n",
    "    \n",
    "    # each annotation\n",
    "    for i in range(num_ann):\n",
    "        frq = 0\n",
    "        # each word in one annotation\n",
    "        wl = cleaned_ann_list[i].data\n",
    "        for w in wl:\n",
    "            appeared=0\n",
    "            for j in range(num_ann):\n",
    "                if j!=i:\n",
    "                    wll = cleaned_ann_list[j].data\n",
    "                    if w in wll:\n",
    "                        appeared+=1\n",
    "            frq += 1 - appeared / (num_ann-1) #proportion of the word appearing in other annotations\n",
    "        if len(wl) != 0:\n",
    "            nd+=frq/len(wl)  # nd += mean frq (1-p) of each annotation\n",
    "    TEMP_RESULT.append(nd/num_ann)\n",
    "    return nd/num_ann"
   ]
  },
  {
   "cell_type": "code",
   "execution_count": 77,
   "metadata": {},
   "outputs": [],
   "source": [
    "wrappers=[Wrapper(a) for a in SPARSE_PART['page1-116']]"
   ]
  },
  {
   "cell_type": "code",
   "execution_count": 78,
   "metadata": {},
   "outputs": [
    {
     "name": "stdout",
     "output_type": "stream",
     "text": [
      "1000\n"
     ]
    },
    {
     "data": {
      "text/plain": [
       "(0.4222222222222222, 0.7925925925925925, 0.6449851851851852)"
      ]
     },
     "execution_count": 78,
     "metadata": {},
     "output_type": "execute_result"
    }
   ],
   "source": [
    "TEMP_RESULT=[]\n",
    "res=bootstrap((wrappers,), TEMP_calc_ND, confidence_level=0.95, vectorized=False, n_resamples=1000, method='percentile') \n",
    "\n",
    "print(len(TEMP_RESULT))\n",
    "assert len(TEMP_RESULT)==1000\n",
    "ci_l,ci_u=np.percentile(TEMP_RESULT, [2.5, 97.5])\n",
    "m=np.mean(TEMP_RESULT)\n",
    "file_to_nd['page1-116'] = (ci_l, ci_u, m)\n",
    "file_to_nd['page1-116']"
   ]
  },
  {
   "cell_type": "code",
   "execution_count": 79,
   "metadata": {},
   "outputs": [],
   "source": [
    "save_pickle('CUSTOM_sparse_part_1000', file_to_nd)"
   ]
  },
  {
   "cell_type": "markdown",
   "metadata": {},
   "source": [
    "### dense"
   ]
  },
  {
   "cell_type": "code",
   "execution_count": 80,
   "metadata": {},
   "outputs": [
    {
     "name": "stdout",
     "output_type": "stream",
     "text": [
      "0\n",
      "20\n",
      "40\n",
      "60\n"
     ]
    }
   ],
   "source": [
    "#DENSE\n",
    "dense_file_to_nd = bootstrap_ND(file_to_clean_anns_list=DENSE_WHOLE, resample=1000)\n",
    "len(dense_file_to_nd)\n",
    "save_pickle('CUSTOM_dense_whole_1000', dense_file_to_nd)"
   ]
  },
  {
   "cell_type": "code",
   "execution_count": 81,
   "metadata": {},
   "outputs": [
    {
     "name": "stdout",
     "output_type": "stream",
     "text": [
      "0\n",
      "20\n",
      "40\n",
      "60\n"
     ]
    }
   ],
   "source": [
    "dense_file_to_nd = bootstrap_ND(file_to_clean_anns_list=DENSE_PART, resample=1000)\n",
    "len(dense_file_to_nd)\n",
    "save_pickle('CUSTOM_dense_part_1000', dense_file_to_nd)"
   ]
  },
  {
   "cell_type": "code",
   "execution_count": 83,
   "metadata": {},
   "outputs": [
    {
     "data": {
      "text/plain": [
       "{'page7-218': (0.8264002029882535, 0.9197545700087633, 0.8796221885294999),\n",
       " 'page1-129': (0.9324262431750634, 0.9637721594443296, 0.951103598209966),\n",
       " 'page-G': (0.4928875661375659, 0.6707766203703702, 0.5816236225348725),\n",
       " 'page5-200': (0.7468890278353724, 0.8693076109556064, 0.8139776576934595),\n",
       " 'page-L': (0.5134702168389038, 0.6759923285889196, 0.5952376322994253),\n",
       " 'page-K': (0.6414147192827748, 0.796886056330501, 0.7190443665490888),\n",
       " 'page-I': (0.444355264404507, 0.6391613911481335, 0.5438078850433145),\n",
       " 'page3-41': (0.5582371902861292, 0.7594656787787686, 0.6668301392920496),\n",
       " 'page4-162': (0.4987949668256271, 0.7641708134632664, 0.6398846499412536),\n",
       " 'page-J': (0.7154141414141413, 0.8682225629308962, 0.8024456087328308),\n",
       " 'page5-128': (0.7131146634055442, 0.8745626116158091, 0.8044877979656806),\n",
       " 'page4-24': (0.4064828757458473, 0.6009429714677358, 0.5007036317587025),\n",
       " 'page9-46': (0.8689831557186117, 0.9385724580712791, 0.9105177090612626),\n",
       " 'page-E': (0.6290672999839667, 0.8094921102559993, 0.7280813733899845),\n",
       " 'page8-235': (0.5244939180316539, 0.7378068377508238, 0.6358224484242173),\n",
       " 'page5-244': (0.49813277524362437, 0.6948251061045873, 0.5960177210760937),\n",
       " 'page6-180': (0.5566416706982744, 0.7314239530778442, 0.6446634857281083),\n",
       " 'page-H': (0.6523366413678912, 0.8106445217591051, 0.7374225767904935),\n",
       " 'page6-99': (0.6518067830361459, 0.8072876602564101, 0.7330197059230078),\n",
       " 'page-B': (0.6030259640051308, 0.7899326817963181, 0.7024510299240603),\n",
       " 'page3-128': (0.8374972066717349, 0.9118531645241549, 0.8792338551385721),\n",
       " 'page5-75': (0.328828449968387, 0.5561215308974742, 0.4434150153073109),\n",
       " 'page6-162': (0.8814714432579998, 0.9310059869375907, 0.9092485369583246),\n",
       " 'page7-197': (0.7469129475084662, 0.8743397738268021, 0.8176504207270716),\n",
       " 'page-F': (0.3904145528760427, 0.5577011784511784, 0.47284011829453754),\n",
       " 'page-A': (0.409548825625097, 0.5591842585968645, 0.4836692393364639),\n",
       " 'page-D': (0.5562782186948854, 0.7369324995991662, 0.6507593442360108),\n",
       " 'page-C': (0.4811764870931538, 0.6737845819304153, 0.5819727076318743),\n",
       " 'page9-27': (0.7954470941066853, 0.9022832226880969, 0.8547238469601678),\n",
       " 'page1-128': (0.9226795073375262, 0.9575040764034478, 0.9421400252903399),\n",
       " 'page7-248': (0.8152572741723683, 0.9013747710622709, 0.8645925685949272),\n",
       " 'page6-143': (0.6230785861151426, 0.801415375112309, 0.7192707910014512),\n",
       " 'page2-112': (0.7328541083523394, 0.8757715633423182, 0.8125627876840141),\n",
       " 'page5-186': (0.8967350920102494, 0.943920917773119, 0.9249186116934546),\n",
       " 'page9-13': (0.806495200946852, 0.9091728724629671, 0.8633178842565271),\n",
       " 'page4-93': (0.8245333212385099, 0.9087486003906993, 0.8721497728948201),\n",
       " 'page5-153': (0.7478151133457736, 0.8727429331674617, 0.8177511291381575),\n",
       " 'page6-164': (0.39005731750107653, 0.5863801622301258, 0.49218789122101897),\n",
       " 'page4-10': (0.5833373073467414, 0.7458977058711728, 0.6648756850853549),\n",
       " 'page8-21': (0.4007221443558578, 0.6100941113175782, 0.5051207810169682),\n",
       " 'page5-64': (0.7683575213803199, 0.8834641630062225, 0.8359328316861336),\n",
       " 'page8-159': (0.63592177672956, 0.838391287695533, 0.7455721705312507),\n",
       " 'page8-183': (0.902890175861874, 0.9532832687490705, 0.9332999464110313),\n",
       " 'page2-137': (0.9060383405902273, 0.9502263243831636, 0.9315306059506532),\n",
       " 'page1-116': (0.8534096203121364, 0.9255984548489793, 0.8957175324171132),\n",
       " 'page1-105': (0.8483624505008154, 0.9237334032145351, 0.89006797111577),\n",
       " 'page4-157': (0.8720344405987094, 0.9246800418528014, 0.9007552787621184),\n",
       " 'page3-72': (0.8302747036768265, 0.9268099039325454, 0.888195093389315),\n",
       " 'page6-78': (0.5466469693828185, 0.7262111165825789, 0.6401491859031953),\n",
       " 'page3-121': (0.5920115869310054, 0.7773450632661848, 0.6887603235988717),\n",
       " 'page8-234': (0.4966902450275092, 0.7010440601065602, 0.6066787699198075),\n",
       " 'page7-81': (0.8630897538902801, 0.9367555384212224, 0.9050017004524261),\n",
       " 'page7-14': (0.360539461521183, 0.5784064602195497, 0.4732763690188218),\n",
       " 'page1-0': (0.8483045973287716, 0.9223710389453317, 0.8901369345670054),\n",
       " 'page4-128': (0.833645590690271, 0.9187485961365679, 0.8833213254134639),\n",
       " 'page5-59': (0.7705310131430416, 0.8623667805595875, 0.821937912231898),\n",
       " 'page5-136': (0.8345544102803013, 0.9100769386487415, 0.8774409720142425),\n",
       " 'page5-232': (0.7585452126489861, 0.8802791273192218, 0.8255429576712595),\n",
       " 'page6-203': (0.8137829990975401, 0.8872875165473132, 0.8543476685898765),\n",
       " 'page3-182': (0.8594596853618082, 0.9242515032137674, 0.8973929878267596),\n",
       " 'page7-26': (0.8464185619295681, 0.9179266252130506, 0.8885269547053615),\n",
       " 'page3-85': (0.8943951636021209, 0.9481178609126723, 0.9266540800590919),\n",
       " 'page7-180': (0.8803220066751909, 0.9338244155608539, 0.9109028270209873),\n",
       " 'page2-34': (0.662427557180571, 0.8348334961247699, 0.7559197508175497),\n",
       " 'page2-131': (0.7796045748669564, 0.8989769291243346, 0.8484875),\n",
       " 'page3-136': (0.8646909628631331, 0.9390316669994345, 0.9086473678080598),\n",
       " 'page7-105': (0.7630702061303479, 0.8842413522012581, 0.8281692974347455),\n",
       " 'page5-178': (0.6532261266957283, 0.797080165108205, 0.7314815542050735),\n",
       " 'page1-69': (0.8314683267611728, 0.9155638331503112, 0.880800748727164),\n",
       " 'page3-35': (0.8888586374317508, 0.9394113492639434, 0.919386919448476),\n",
       " 'page6-149': (0.8646147798742142, 0.9354358112042864, 0.9030844056392014),\n",
       " 'page7-107': (0.8358410923785335, 0.9410090808366167, 0.8960762982497062),\n",
       " 'page5-28': (0.9041315052871657, 0.9529472060957905, 0.9328151476144401),\n",
       " 'page1-119': (0.8574538452899301, 0.9389407958393805, 0.9061986764807518)}"
      ]
     },
     "execution_count": 83,
     "metadata": {},
     "output_type": "execute_result"
    }
   ],
   "source": [
    "dense_file_to_nd"
   ]
  }
 ],
 "metadata": {
  "kernelspec": {
   "display_name": "venv",
   "language": "python",
   "name": "venv"
  },
  "language_info": {
   "codemirror_mode": {
    "name": "ipython",
    "version": 3
   },
   "file_extension": ".py",
   "mimetype": "text/x-python",
   "name": "python",
   "nbconvert_exporter": "python",
   "pygments_lexer": "ipython3",
   "version": "3.7.6"
  }
 },
 "nbformat": 4,
 "nbformat_minor": 4
}
